{
 "cells": [
  {
   "cell_type": "code",
   "execution_count": 5,
   "metadata": {},
   "outputs": [
    {
     "ename": "SyntaxError",
     "evalue": "(unicode error) 'unicodeescape' codec can't decode bytes in position 2-3: truncated \\UXXXXXXXX escape (<ipython-input-5-53d762d10476>, line 13)",
     "output_type": "error",
     "traceback": [
      "\u001b[1;36m  File \u001b[1;32m\"<ipython-input-5-53d762d10476>\"\u001b[1;36m, line \u001b[1;32m13\u001b[0m\n\u001b[1;33m    dataset_path = 'C:\\Users\\Yuichi Omozaki\\IDrive\\Junior_ex1\\eclipse_workspace\\eclipse_ex1\\src\\eclipse_ex1\\inputData.dat'\u001b[0m\n\u001b[1;37m                  ^\u001b[0m\n\u001b[1;31mSyntaxError\u001b[0m\u001b[1;31m:\u001b[0m (unicode error) 'unicodeescape' codec can't decode bytes in position 2-3: truncated \\UXXXXXXXX escape\n"
     ]
    }
   ],
   "source": [
    "# -*- coding: utf-8 -*-\n",
    "import matplotlib.pyplot as plt\n",
    "import matplotlib.ticker as ticker\n",
    "import numpy as np\n",
    "\n",
    "# データセット初期化\n",
    "dataX_ofDataset = np.asarray([], dtype=np.float64)\n",
    "dataY_ofDataset = np.asarray([], dtype=np.float64)\n",
    "# ---------------ファイル読み込み開始---------------\n",
    "    #Mac(ノートPC)環境用パス\n",
    "#dataset_path = '/Users/Uone/IDrive/OPU/研究フォルダ/1_プログラミング課題/eclipse_workspace/eclipse_ex1/src/eclipse_ex1/inputData.dat'\n",
    "    #研究室 Windows環境用パス\n",
    "dataset_path = 'C:\\\\Users\\\\Yuichi Omozaki\\\\IDrive\\\\Junior_ex1\\\\eclipse_workspace\\\\eclipse_ex1\\\\src\\\\eclipse_ex1\\\\inputData.dat'\n",
    "for line in open(dataset_path, 'r'):\n",
    "    dataX_ofDataset = np.append( dataX_ofDataset, line[:-1].split('\\t')[0] )\n",
    "    dataY_ofDataset = np.append( dataY_ofDataset, line[:-1].split('\\t')[1] )\n",
    "\n",
    "dataX_ofDataset = dataX_ofDataset.astype(np.float64) #型変換\n",
    "dataY_ofDataset = dataY_ofDataset.astype(np.float64) #\n",
    "# ---------------ファイル読み込み完了---------------\n",
    "\n",
    "# データセット描画\n",
    "fig_dataset = plt.figure(figsize=(10,5))\n",
    "axes_dataset = fig_dataset.add_subplot(121)\n",
    "axes_dataset.set_title(\"inputData.dat\")\n",
    "axes_dataset.scatter(dataX_ofDataset, dataY_ofDataset, label=\"inputData\")\n",
    "axes_dataset.legend()\n",
    "axes_dataset.set_xlabel(\"x\")\n",
    "axes_dataset.set_ylabel(\"y\")\n",
    "axes_dataset.set_xlim([0.0, 1.0])\n",
    "axes_dataset.set_ylim([0.0, 1.0])\n",
    "axes_dataset.tick_params(axis='both', direction='in', bottom=True, top=True, left=True, right=True)\n",
    "axes_dataset.tick_params(axis='both', which='major', length=6)\n",
    "\n",
    "#fig_dataset.show()\n",
    "\n",
    "# データセット初期化\n",
    "dataX = np.asarray([], dtype=np.float64)\n",
    "dataY = np.asarray([], dtype=np.float64)\n",
    "# ---------------ファイル読み込み開始---------------\n",
    "    #Mac(ノートPC)環境用パス\n",
    "#trained_path = /Users/Uone/IDrive/OPU/研究フォルダ/1_プログラミング課題/eclipse_workspace/eclipse_ex1/src/eclipse_ex1/outputData.dat'\n",
    "    #研究室 Windows環境用パス\n",
    "trained_path = 'C:\\\\Users\\\\Yuichi Omozaki\\\\IDrive\\\\Junior_ex1\\\\eclipse_workspace\\\\eclipse_ex1\\\\src\\\\eclipse_ex1\\\\outputData.dat'\n",
    "for line in open(trained_path, 'r'):\n",
    "    dataX = np.append( dataX, line[:-1].split('\\t')[0] )\n",
    "    dataY = np.append( dataY, line[:-1].split('\\t')[1] )\n",
    "\n",
    "    dataX = dataX.astype(np.float64) #型変換\n",
    "    dataY = dataY.astype(np.float64) #\n",
    "# ---------------ファイル読み込み完了---------------\n",
    "\n",
    "# データセット描画\n",
    "axes_trained = fig_dataset.add_subplot(122)\n",
    "axes_trained.set_title(\"outputData.dat\")\n",
    "axes_trained.scatter(dataX_ofDataset, dataY_ofDataset, label=\"inputData\")\n",
    "axes_trained.plot(dataX, dataY, label=\"trainedFunction\")\n",
    "axes_trained.legend()\n",
    "axes_trained.set_xlabel(\"x\")\n",
    "axes_trained.set_ylabel(\"y\")\n",
    "axes_trained.set_xlim([0.0, 1.0])\n",
    "axes_trained.set_ylim([0.0, 1.0])\n",
    "axes_trained.tick_params(axis='both', direction='in', bottom=True, top=True, left=True, right=True)\n",
    "axes_trained.tick_params(axis='both', which='major', length=6)\n",
    "\n",
    "fig_dataset.show()"
   ]
  },
  {
   "cell_type": "code",
   "execution_count": null,
   "metadata": {},
   "outputs": [],
   "source": []
  },
  {
   "cell_type": "code",
   "execution_count": null,
   "metadata": {},
   "outputs": [],
   "source": []
  }
 ],
 "metadata": {
  "kernelspec": {
   "display_name": "Python 3",
   "language": "python",
   "name": "python3"
  },
  "language_info": {
   "codemirror_mode": {
    "name": "ipython",
    "version": 3
   },
   "file_extension": ".py",
   "mimetype": "text/x-python",
   "name": "python",
   "nbconvert_exporter": "python",
   "pygments_lexer": "ipython3",
   "version": "3.7.0"
  }
 },
 "nbformat": 4,
 "nbformat_minor": 2
}
