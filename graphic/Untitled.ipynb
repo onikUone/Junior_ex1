{
 "cells": [
  {
   "cell_type": "code",
   "execution_count": 70,
   "metadata": {},
   "outputs": [
    {
     "data": {
      "image/png": "[encoded data removed]",
      "text/plain": [
       "<Figure size 360x360 with 1 Axes>"
      ]
     },
     "metadata": {},
     "output_type": "display_data"
    }
   ],
   "source": [
    "# -*- coding: utf-8 -*-\n",
    "import matplotlib.pyplot as plt\n",
    "import matplotlib.ticker as ticker\n",
    "import numpy as np\n",
    "\n",
    "# データセット初期化\n",
    "dataX = np.asarray([], dtype=np.float64)\n",
    "dataY = np.asarray([], dtype=np.float64)\n",
    "# ---------------ファイル読み込み開始---------------\n",
    "    #Mac(ノートPC)環境用パス\n",
    "path = \"/Users/Uone/IDrive/OPU/研究フォルダ/1_プログラミング課題/eclipse_workspace/eclipse_ex1/src/eclipse_ex1/inputData.dat\"\n",
    "for line in open(path, 'r'):\n",
    "    dataX = np.append( dataX, line[:-1].split('\\t')[0] )\n",
    "    dataY = np.append( dataY, line[:-1].split('\\t')[1] )\n",
    "\n",
    "dataX = dataX.astype(np.float64) #型変換\n",
    "dataY = dataY.astype(np.float64) #\n",
    "# ---------------ファイル読み込み完了---------------\n",
    "\n",
    "# データセット描画\n",
    "fig_dataset = plt.figure(figsize=(5,5))\n",
    "axes_dataset = fig_dataset.add_subplot(111)\n",
    "axes_dataset.set_title(\"inputData.dat\")\n",
    "axes_dataset.scatter(dataX, dataY, label=\"inputData\")\n",
    "axes_dataset.legend()\n",
    "axes_dataset.set_xlabel(\"x\")\n",
    "axes_dataset.set_ylabel(\"y\")\n",
    "axes_dataset.set_xlim([0.0, 1.0])\n",
    "axes_dataset.set_ylim([0.0, 1.0])\n",
    "axes_dataset.tick_params(axis='both', direction='in', bottom=True, top=True, left=True, right=True)\n",
    "axes_dataset.tick_params(axis='both', which='major', length=6)\n",
    "\n",
    "fig_dataset.show()\n"
   ]
  }
 ],
 "metadata": {
  "kernelspec": {
   "display_name": "Python 2",
   "language": "python",
   "name": "python2"
  },
  "language_info": {
   "codemirror_mode": {
    "name": "ipython",
    "version": 2
   },
   "file_extension": ".py",
   "mimetype": "text/x-python",
   "name": "python",
   "nbconvert_exporter": "python",
   "pygments_lexer": "ipython2",
   "version": "2.7.15"
  }
 },
 "nbformat": 4,
 "nbformat_minor": 2
}
